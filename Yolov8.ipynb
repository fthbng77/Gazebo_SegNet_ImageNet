{
  "cells": [
    {
      "cell_type": "code",
      "execution_count": 5,
      "metadata": {
        "colab": {
          "base_uri": "https://localhost:8080/"
        },
        "id": "kKovhiqYDcZU",
        "outputId": "d0f82724-505d-45b3-97c2-2d75a7faacaa"
      },
      "outputs": [
        {
          "name": "stdout",
          "output_type": "stream",
          "text": [
            "Ultralytics YOLOv8.1.14 🚀 Python-3.10.12 torch-2.1.0+cu121 CPU (Intel Xeon 2.20GHz)\n",
            "Setup complete ✅ (2 CPUs, 12.7 GB RAM, 32.5/107.7 GB disk)\n"
          ]
        }
      ],
      "source": [
        "%pip install ultralytics\n",
        "import ultralytics\n",
        "ultralytics.checks()"
      ]
    },
    {
      "cell_type": "code",
      "execution_count": 6,
      "metadata": {
        "colab": {
          "base_uri": "https://localhost:8080/"
        },
        "id": "s591lXJ6DgKn",
        "outputId": "85dd7eac-2d41-48b7-d6cc-b3dc8842714a"
      },
      "outputs": [
        {
          "name": "stdout",
          "output_type": "stream",
          "text": [
            "Drive already mounted at /content/drive; to attempt to forcibly remount, call drive.mount(\"/content/drive\", force_remount=True).\n"
          ]
        }
      ],
      "source": [
        "from google.colab import drive\n",
        "drive.mount(\"/content/drive\")"
      ]
    },
    {
      "cell_type": "code",
      "execution_count": null,
      "metadata": {
        "id": "0Rq61yofKS8X"
      },
      "outputs": [],
      "source": [
        "import os# Zip dosyasının yolu\n",
        "#zip_path = '/content/drive/MyDrive/GokmenUAV/Software/computer_vision/datasets/fixed-wing-yolo-data/fixed-wing-update.zip'\n",
        "\n",
        "# Zip dosyasını çıkartma yolu\n",
        "#unzip_location = '/content/datasets'\n",
        "\n",
        "# Zip dosyasını çıkartma komutu\n",
        "#!unzip -q \"$zip_path\" -d \"$unzip_location\""
      ]
    },
    {
      "cell_type": "code",
      "execution_count": null,
      "metadata": {
        "colab": {
          "base_uri": "https://localhost:8080/"
        },
        "id": "PimPHfjOfaL2",
        "outputId": "5da0d32d-e9ff-476b-9e70-3667ef989a9e"
      },
      "outputs": [],
      "source": [
        "from PIL import Image, ImageFile\n",
        "import os\n",
        "\n",
        "ImageFile.LOAD_TRUNCATED_IMAGES = True\n",
        "\n",
        "def resize_and_pad(img_path, target_size=(640, 640)):\n",
        "    img = Image.open(img_path)\n",
        "\n",
        "    # Öncelikle orijinal en-boy oranını koruyarak genişliği 640 yapacak şekilde ölçeklendir.\n",
        "    img_ratio = img.width / img.height\n",
        "    target_ratio = target_size[0] / target_size[1]\n",
        "\n",
        "    if img_ratio >= target_ratio:\n",
        "        # Genişlik, yükseklikten daha büyük veya eşitse, genişliği hedefe ölçeklendir.\n",
        "        new_height = int(target_size[0] / img_ratio)\n",
        "        img_resized = img.resize((target_size[0], new_height), Image.ANTIALIAS)\n",
        "    else:\n",
        "        # Yükseklik, genişlikten büyükse, yüksekliği hedefe ölçeklendir.\n",
        "        new_width = int(target_size[1] * img_ratio)\n",
        "        img_resized = img.resize((new_width, target_size[1]), Image.ANTIALIAS)\n",
        "\n",
        "    # Oluşan yeni görüntüyü hedef boyuta getirmek için padding ekleyin.\n",
        "    img_padded = Image.new(\"RGB\", target_size, (255, 255, 255))  # Beyaz arka planla yeni bir görüntü oluştur.\n",
        "    # Yeni görüntüyü ortalamak için padding hesaplama\n",
        "    padding_left = (target_size[0] - img_resized.width) // 2\n",
        "    padding_top = (target_size[1] - img_resized.height) // 2\n",
        "    img_padded.paste(img_resized, (padding_left, padding_top))\n",
        "\n",
        "    return img_padded\n",
        "\n",
        "def process_images(source_folder, target_folder, target_size=(640, 640)):\n",
        "    if not os.path.exists(target_folder):\n",
        "        os.makedirs(target_folder)\n",
        "\n",
        "    for filename in os.listdir(source_folder):\n",
        "        if filename.lower().endswith(('.png', '.jpg', '.jpeg')):\n",
        "            img_path = os.path.join(source_folder, filename)\n",
        "            img_padded = resize_and_pad(img_path, target_size)\n",
        "\n",
        "            save_path = os.path.join(target_folder, filename)\n",
        "            img_padded.save(save_path)\n",
        "            print(f\"Processed and saved: {save_path}\")\n",
        "\n",
        "# Görüntülerin bulunduğu klasör\n",
        "source_folder = '/content/datasets/fixed-wing-update/images/train'\n",
        "# İşlenmiş görüntülerin kaydedileceği klasör\n",
        "target_folder = '/content/datasets/fixed-wing-update/images/train_rz'\n",
        "\n",
        "val_folder = '/content/datasets/fixed-wing-update/images/val'\n",
        "# İşlenmiş görüntülerin kaydedileceği klasör\n",
        "val_target = '/content/datasets/fixed-wing-update/images/val_rz'\n",
        "# İşlemi başlat\n",
        "process_images(source_folder, target_folder)\n",
        "process_images(val_folder, val_target)"
      ]
    },
    {
      "cell_type": "code",
      "execution_count": null,
      "metadata": {
        "colab": {
          "base_uri": "https://localhost:8080/"
        },
        "id": "GY506eOnKc8_",
        "outputId": "64e476cc-40e0-4d3e-dd70-c2bbcdac6852"
      },
      "outputs": [],
      "source": [
        "\n",
        "!pip install wandb\n",
        "import wandb\n",
        "!wandb login"
      ]
    },
    {
      "cell_type": "code",
      "execution_count": null,
      "metadata": {
        "id": "Tdc14GBLLDQJ"
      },
      "outputs": [],
      "source": [
        "!yolo train --epochs 3 --data gokmen.yaml --weights yolov8n.pt epochs=3 imgsz=640 --project project --entity your_entity\n"
      ]
    }
  ],
  "metadata": {
    "colab": {
      "provenance": []
    },
    "kernelspec": {
      "display_name": "Python 3",
      "name": "python3"
    },
    "language_info": {
      "name": "python"
    }
  },
  "nbformat": 4,
  "nbformat_minor": 0
}
